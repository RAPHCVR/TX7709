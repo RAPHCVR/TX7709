{
 "cells": [
  {
   "cell_type": "code",
   "execution_count": 1,
   "id": "e1ed2e9d",
   "metadata": {},
   "outputs": [
    {
     "data": {
      "text/plain": [
       "True"
      ]
     },
     "execution_count": 1,
     "metadata": {},
     "output_type": "execute_result"
    }
   ],
   "source": [
    "from typing import List, Dict, Callable\n",
    "import json, pydantic, os, dotenv, pandas, datetime, matplotlib.pyplot, seaborn\n",
    "from langchain_core.messages import AIMessage, HumanMessage, SystemMessage\n",
    "from langchain_openai import ChatOpenAI\n",
    "\n",
    "dotenv.load_dotenv()"
   ]
  },
  {
   "cell_type": "markdown",
   "id": "5bccd6b9",
   "metadata": {},
   "source": [
    "# Loading Truth"
   ]
  },
  {
   "cell_type": "code",
   "execution_count": 2,
   "id": "e23f1d88",
   "metadata": {},
   "outputs": [
    {
     "data": {
      "text/plain": [
       "{\"J'ai un problème de mdp\": ['Les caractères spéciaux ne sont pas acceptés dans les mots de passe.',\n",
       "  'Le mot de passe doit contenir au moins 8 caractères.'],\n",
       " 'Je ne sais pas à quel réseau me connecter': ['Il faut se connecter à eduroam.',\n",
       "  'Le réseau cacahuète est également disponible pour les invités.'],\n",
       " 'Comment faire pour que mon poste téléphonique soit transféré vers un autre numéro ? Je suis sur le poste 4242 et je souhaite le transférer vers le poste 1337.': ['Pour transférer les appels, composez le 82 sur votre poste téléphonique.',\n",
       "  'Ensuite, composez le numéro du poste destinataire du transfert (par exemple, « 82 1337 » si vous transférez vers le 1337).'],\n",
       " 'Je suis sur le poste téléphonique 4242, les personnes arrivent à me joindre depuis des postes UTC, mais pas depuis l’extérieur, comment résoudre le problème ?': [\"Le poste téléphonique 4242 n'est pas une ligne directe et ne fonctionne qu'en interne à l’UTC.\",\n",
       "  \"Pour recevoir des appels de l'extérieur sur ce type de poste, il faut faire une demande à la DSI pour une ligne directe.\",\n",
       "  'Votre demande de ligne directe doit préciser si vous avez le soutien de votre responsable.',\n",
       "  'Il faut également mentionner les circonstances qui appuient votre demande de ligne directe.'],\n",
       " 'Je suis sur le poste téléphonique 4532, j’arrive à joindre les autres personnes avec des numéros de postes extérieurs, mais pas les personnes hors UTC (numéro de portable par exemple)': ['Le poste 4532 est une ligne directe qui devrait permettre les appels vers l’extérieur.',\n",
       "  \"Pour appeler un numéro extérieur, assurez-vous d'ajouter le préfixe « 0 » avant de composer le numéro de votre correspondant.\"],\n",
       " 'A chaque fois que j’essai d’ouvrir une page web, j’ai « erreur SSL »': ['Une erreur SSL persistante peut être due à une date ou une heure incorrecte sur votre PC ; vérifiez ces paramètres.'],\n",
       " 'Comment configurer mes mails avec thunderbird ?': ['Pour la réception des mails (IMAP), le serveur est imaps.utc.fr.',\n",
       "  'Les paramètres de sécurisation pour la réception (IMAP) sont : SSL (Port 993).',\n",
       "  \"Pour l'envoi des mails (SMTP), le serveur est smtps.utc.fr.\",\n",
       "  \"Les paramètres de sécurisation pour l'envoi (SMTP) sont : SSL (Port 465).\",\n",
       "  \"L'authentification doit être activée pour le serveur d'envoi (SMTP), en utilisant votre login et mot de passe de messagerie.\"],\n",
       " 'Je n’arrive pas à me connecter à eduroam, mais ca marche pour les autres réseaux.': [\"Pour se connecter à eduroam, l'identifiant doit être au format 'votrelgin@utc.fr' (ceci est valable aussi pour les étudiants).\",\n",
       "  \"Si vous avez récemment changé votre mot de passe UTC, il est conseillé d''oublier le réseau' eduroam sur votre appareil pour pouvoir saisir le nouveau mot de passe.\"],\n",
       " 'J’arrive à me connecter à internet et à l’ENT, mais je n’ai pas accès aux partages NAS et aux imprimantes.': [\"L'accès aux partages NAS et aux imprimantes est disponible si votre machine est connectée au réseau sécurisé.\",\n",
       "  'Le réseau sécurisé est réservé aux machines professionnelles qui ont été configurées par la DSI.',\n",
       "  'Les logiciels de sécurité Cortex et OCS inventory doivent être installés et fonctionnels sur la machine pour accéder à ces services.'],\n",
       " 'Je n’arrive pas à me connecter au VPN AnyConnect': ['Le VPN AnyConnect n’est plus supporté.',\n",
       "  'En remplacement, et en fonction de votre situation, vous devez utiliser OpenVPN ou GlobalProtect.'],\n",
       " 'Je n’arrive pas à me connecter au VPN OpenVPN': [\"Si vous avez installé OpenVPN avant Mars 2025, il est nécessaire de réinstaller le fichier de configuration ou l'outil complet pour mettre à jour votre configuration.\",\n",
       "  \"Le lien pour obtenir la configuration à jour d'OpenVPN est : https://5000.utc.fr/front/knowbaseitem.form.php?id=81.\",\n",
       "  \"Vérifiez l'exactitude de votre login et de votre mot de passe.\",\n",
       "  'Si vous avez changé votre mot de passe UTC récemment, assurez-vous de le saisir à nouveau pour la connexion OpenVPN.'],\n",
       " 'Je n’arrive pas à me connecter au NAS quand j’utilise OpenVPN': ['Lorsque vous utilisez OpenVPN, vous pouvez uniquement accéder aux services des réseaux non sécurisés.',\n",
       "  'Pour accéder aux services sécurisés (comme le NAS ou les imprimantes) via VPN, vous devez utiliser GlobalProtect.',\n",
       "  \"L'utilisation de GlobalProtect pour les services sécurisés requiert une machine professionnelle.\",\n",
       "  'Les outils de sécurité (OCS inventory, Cortex) doivent également être actifs sur cette machine professionnelle.'],\n",
       " 'Je n’arrive pas à me connecter au NAS quand j’utilise GlobalProtect': ['Si vous utilisez GlobalProtect, vérifiez que vous vous connectez depuis un ordinateur professionnel.',\n",
       "  'Assurez-vous que les outils de sécurité (OCS inventory, Cortex) sont installés sur cet ordinateur.',\n",
       "  \"Vérifiez que ces logiciels de sécurité sont bien lancés et fonctionnent correctement (vous pouvez double-cliquer sur l'icône Cortex dans la barre des tâches pour obtenir des informations).\",\n",
       "  \"Si ces logiciels ne sont pas lancés, vos accès seront équivalents à ceux d'un utilisateur sur un réseau non sécurisé.\"],\n",
       " 'Comment faire pour ouvrir une demande d’assistance': [\"Vous pouvez ouvrir une demande d'assistance en allant sur le site https://5000.utc.fr.\",\n",
       "  'En cas de force majeure (par exemple, si votre compte est bloqué ou que la connexion à votre compte ne fonctionne pas), vous pouvez envoyer un mail à 5000-contact@utc.fr.',\n",
       "  'En cas de panne généralisée, il est possible que les équipes techniques soient difficiles à joindre car mobilisées à la résolution des incidents.'],\n",
       " 'Je souhaite me connecter à distance sur une machine avec les logiciels UTC pour faire un TP, comment puis-je faire ?': ['La liste des machines virtuelles disponibles pour une connexion à distance est publiée sur le site web https://freeremotepc.utc.fr/.',\n",
       "  \"Sur ce site, dans la colonne de gauche, vous pouvez filtrer cette liste par type d'image logicielle (SME, CAO, GSU, Linux, etc.).\"],\n",
       " 'Je viens de changer mon mot de passe et le wifi de mon PC portable ne marche plus.': [\"Si le Wi-Fi de votre PC portable ne fonctionne plus après un changement de mot de passe, il faut supprimer l'ancienne configuration du réseau : dans la liste des réseaux Wi-Fi disponibles, faites un clic droit sur le nom du réseau concerné, puis sélectionnez l'option 'oublier le réseau'.\"],\n",
       " 'Je suis extérieur et on m’a donné un login temporaire d’une semaine. Sur quelle réseau je dois me connecter ?': [\"Si vous êtes un utilisateur extérieur avec un login temporaire, vous devez probablement vous connecter sur le réseau 'portailutc', qui est utilisé par les invités.\",\n",
       "  \"Une feuille imprimée avec les informations de connexion vous a probablement été remise par l'accueil de l'UTC.\"]}"
      ]
     },
     "execution_count": 2,
     "metadata": {},
     "output_type": "execute_result"
    }
   ],
   "source": [
    "TRUTH = json.load(open(\"truth.json\", encoding=\"utf-8\"))\n",
    "TRUTH"
   ]
  },
  {
   "cell_type": "markdown",
   "id": "34342d63",
   "metadata": {},
   "source": [
    "# Définition des fonctions d'inférence"
   ]
  },
  {
   "cell_type": "code",
   "execution_count": 3,
   "id": "180f136c",
   "metadata": {},
   "outputs": [
    {
     "data": {
      "text/plain": [
       "'Pour vous aider efficacement, pourriez-vous préciser  :\\n\\n1. Lequel de vos mots de passe pose problème ?  \\n   - votre compte UTC (portail comptes.utc.fr) ?  \\n   - votre session Windows (PC de bureau/laptop) ?  \\n   - un accès à une imprimante ou à un partage réseau ?  \\n   - autre (messagerie, VPN, etc.) ?\\n\\n2. Quel est exactement le symptôme ?  \\n   - « Mot de passe oublié » (erreur d’authentification)  \\n   - Explosions d’erreurs après le changement  \\n   - Blocage de compte, message « compte verrouillé »  \\n\\nEn attendant votre précision, voilà quelques procédures génériques :\\n\\nA. Si c’est votre compte UTC (portail comptes.utc.fr)  \\n– Allez sur : https://comptes.utc.fr/accounts-web/tools/changePassword.xhtml  \\n– Identifiez-vous ou cliquez « Mot de passe oublié »  \\n– Suivez la procédure de réinitialisation  \\n  \\nB. Si c’est votre session Windows (PC professionnel UTC ou personnel)  \\n– Appuyez simultanément sur Ctrl + Alt + Suppr  \\n– Choisissez « Modifier un mot de passe »  \\n– Saisissez votre ancien puis votre nouveau mot de passe  \\n\\nC. Si c’est l’accès à une imprimante ou à un partage réseau sous Windows  \\n– Ouvrez Panneau de configuration → Gestionnaire d’identification → Identifiants Windows  \\n– Développez chaque ressource concernée (ex. « lokorn ») → Modifier → renseignez le nouveau mot de passe → Enregistrer  \\n\\nRecommandations pour le nouveau mot de passe (ANSSI)  \\n– Longueur : 8 à 16 caractères minimum (8 suffisent si bien choisis)  \\n– Caractères mixtes : majuscules, minuscules, chiffres, symboles  \\n– Pas de mots du dictionnaire, ni références personnelles ni suites logiques  \\n– Ne jamais communiquer ni stocker en clair (ni par mail, ni sur Post-it)  \\n\\nPour plus de conseils, vous pouvez consulter la note technique ANSSI :  \\nhttp://www.ssi.gouv.fr/IMG/pdf/NP_MDP_NoteTech.pdf\\n\\nDès que vous nous précisez le contexte et/ou le message d’erreur exact, nous pourrons vous guider pas à pas.'"
      ]
     },
     "execution_count": 3,
     "metadata": {},
     "output_type": "execute_result"
    }
   ],
   "source": [
    "from rag.keywords_inference import respond\n",
    "\n",
    "respond(\"J'ai un problème de mot de passe\")"
   ]
  },
  {
   "cell_type": "markdown",
   "id": "ea870c31",
   "metadata": {},
   "source": [
    "# Evaluation des Requêtes"
   ]
  },
  {
   "cell_type": "code",
   "execution_count": 4,
   "id": "1df34c5c",
   "metadata": {},
   "outputs": [
    {
     "name": "stdout",
     "output_type": "stream",
     "text": [
      "Testing [keyword] on \"J'ai un problème de mdp\"\n",
      "Testing [keyword] on \"Je ne sais pas à quel réseau me connecter\"\n",
      "Testing [keyword] on \"Comment faire pour que mon poste téléphonique soit transféré vers un autre numéro ? Je suis sur le poste 4242 et je souhaite le transférer vers le poste 1337.\"\n",
      "Testing [keyword] on \"Je suis sur le poste téléphonique 4242, les personnes arrivent à me joindre depuis des postes UTC, mais pas depuis l’extérieur, comment résoudre le problème ?\"\n",
      "Testing [keyword] on \"Je suis sur le poste téléphonique 4532, j’arrive à joindre les autres personnes avec des numéros de postes extérieurs, mais pas les personnes hors UTC (numéro de portable par exemple)\"\n",
      "Testing [keyword] on \"A chaque fois que j’essai d’ouvrir une page web, j’ai « erreur SSL »\"\n",
      "Testing [keyword] on \"Comment configurer mes mails avec thunderbird ?\"\n",
      "Testing [keyword] on \"Je n’arrive pas à me connecter à eduroam, mais ca marche pour les autres réseaux.\"\n",
      "Testing [keyword] on \"J’arrive à me connecter à internet et à l’ENT, mais je n’ai pas accès aux partages NAS et aux imprimantes.\"\n",
      "Testing [keyword] on \"Je n’arrive pas à me connecter au VPN AnyConnect\"\n",
      "Testing [keyword] on \"Je n’arrive pas à me connecter au VPN OpenVPN\"\n",
      "Testing [keyword] on \"Je n’arrive pas à me connecter au NAS quand j’utilise OpenVPN\"\n",
      "Testing [keyword] on \"Je n’arrive pas à me connecter au NAS quand j’utilise GlobalProtect\"\n",
      "Testing [keyword] on \"Comment faire pour ouvrir une demande d’assistance\"\n",
      "Testing [keyword] on \"Je souhaite me connecter à distance sur une machine avec les logiciels UTC pour faire un TP, comment puis-je faire ?\"\n",
      "Testing [keyword] on \"Je viens de changer mon mot de passe et le wifi de mon PC portable ne marche plus.\"\n",
      "Testing [keyword] on \"Je suis extérieur et on m’a donné un login temporaire d’une semaine. Sur quelle réseau je dois me connecter ?\"\n"
     ]
    },
    {
     "data": {
      "text/html": [
       "<div>\n",
       "<style scoped>\n",
       "    .dataframe tbody tr th:only-of-type {\n",
       "        vertical-align: middle;\n",
       "    }\n",
       "\n",
       "    .dataframe tbody tr th {\n",
       "        vertical-align: top;\n",
       "    }\n",
       "\n",
       "    .dataframe thead th {\n",
       "        text-align: right;\n",
       "    }\n",
       "</style>\n",
       "<table border=\"1\" class=\"dataframe\">\n",
       "  <thead>\n",
       "    <tr style=\"text-align: right;\">\n",
       "      <th></th>\n",
       "      <th>delai</th>\n",
       "      <th>rappel</th>\n",
       "      <th>volume</th>\n",
       "      <th>methode</th>\n",
       "    </tr>\n",
       "  </thead>\n",
       "  <tbody>\n",
       "    <tr>\n",
       "      <th>0</th>\n",
       "      <td>12.917138</td>\n",
       "      <td>0.50</td>\n",
       "      <td>1110.0</td>\n",
       "      <td>keyword</td>\n",
       "    </tr>\n",
       "    <tr>\n",
       "      <th>1</th>\n",
       "      <td>11.958610</td>\n",
       "      <td>0.50</td>\n",
       "      <td>2117.0</td>\n",
       "      <td>keyword</td>\n",
       "    </tr>\n",
       "    <tr>\n",
       "      <th>2</th>\n",
       "      <td>11.458449</td>\n",
       "      <td>1.00</td>\n",
       "      <td>713.0</td>\n",
       "      <td>keyword</td>\n",
       "    </tr>\n",
       "    <tr>\n",
       "      <th>3</th>\n",
       "      <td>16.292621</td>\n",
       "      <td>0.25</td>\n",
       "      <td>996.0</td>\n",
       "      <td>keyword</td>\n",
       "    </tr>\n",
       "    <tr>\n",
       "      <th>4</th>\n",
       "      <td>12.082330</td>\n",
       "      <td>0.50</td>\n",
       "      <td>1114.0</td>\n",
       "      <td>keyword</td>\n",
       "    </tr>\n",
       "    <tr>\n",
       "      <th>5</th>\n",
       "      <td>13.036604</td>\n",
       "      <td>1.00</td>\n",
       "      <td>2593.0</td>\n",
       "      <td>keyword</td>\n",
       "    </tr>\n",
       "    <tr>\n",
       "      <th>6</th>\n",
       "      <td>10.537546</td>\n",
       "      <td>1.00</td>\n",
       "      <td>1826.0</td>\n",
       "      <td>keyword</td>\n",
       "    </tr>\n",
       "    <tr>\n",
       "      <th>7</th>\n",
       "      <td>11.746099</td>\n",
       "      <td>1.00</td>\n",
       "      <td>2196.0</td>\n",
       "      <td>keyword</td>\n",
       "    </tr>\n",
       "    <tr>\n",
       "      <th>8</th>\n",
       "      <td>15.300192</td>\n",
       "      <td>1.00</td>\n",
       "      <td>1843.0</td>\n",
       "      <td>keyword</td>\n",
       "    </tr>\n",
       "    <tr>\n",
       "      <th>9</th>\n",
       "      <td>13.777745</td>\n",
       "      <td>1.00</td>\n",
       "      <td>2394.0</td>\n",
       "      <td>keyword</td>\n",
       "    </tr>\n",
       "    <tr>\n",
       "      <th>10</th>\n",
       "      <td>10.510863</td>\n",
       "      <td>0.25</td>\n",
       "      <td>2530.0</td>\n",
       "      <td>keyword</td>\n",
       "    </tr>\n",
       "    <tr>\n",
       "      <th>11</th>\n",
       "      <td>20.502732</td>\n",
       "      <td>0.00</td>\n",
       "      <td>2664.0</td>\n",
       "      <td>keyword</td>\n",
       "    </tr>\n",
       "    <tr>\n",
       "      <th>12</th>\n",
       "      <td>16.709079</td>\n",
       "      <td>0.00</td>\n",
       "      <td>1953.0</td>\n",
       "      <td>keyword</td>\n",
       "    </tr>\n",
       "    <tr>\n",
       "      <th>13</th>\n",
       "      <td>11.662594</td>\n",
       "      <td>0.00</td>\n",
       "      <td>2081.0</td>\n",
       "      <td>keyword</td>\n",
       "    </tr>\n",
       "    <tr>\n",
       "      <th>14</th>\n",
       "      <td>21.619410</td>\n",
       "      <td>0.00</td>\n",
       "      <td>1969.0</td>\n",
       "      <td>keyword</td>\n",
       "    </tr>\n",
       "    <tr>\n",
       "      <th>15</th>\n",
       "      <td>16.707156</td>\n",
       "      <td>1.00</td>\n",
       "      <td>1958.0</td>\n",
       "      <td>keyword</td>\n",
       "    </tr>\n",
       "    <tr>\n",
       "      <th>16</th>\n",
       "      <td>14.008537</td>\n",
       "      <td>0.50</td>\n",
       "      <td>881.0</td>\n",
       "      <td>keyword</td>\n",
       "    </tr>\n",
       "  </tbody>\n",
       "</table>\n",
       "</div>"
      ],
      "text/plain": [
       "        delai  rappel  volume  methode\n",
       "0   12.917138    0.50  1110.0  keyword\n",
       "1   11.958610    0.50  2117.0  keyword\n",
       "2   11.458449    1.00   713.0  keyword\n",
       "3   16.292621    0.25   996.0  keyword\n",
       "4   12.082330    0.50  1114.0  keyword\n",
       "5   13.036604    1.00  2593.0  keyword\n",
       "6   10.537546    1.00  1826.0  keyword\n",
       "7   11.746099    1.00  2196.0  keyword\n",
       "8   15.300192    1.00  1843.0  keyword\n",
       "9   13.777745    1.00  2394.0  keyword\n",
       "10  10.510863    0.25  2530.0  keyword\n",
       "11  20.502732    0.00  2664.0  keyword\n",
       "12  16.709079    0.00  1953.0  keyword\n",
       "13  11.662594    0.00  2081.0  keyword\n",
       "14  21.619410    0.00  1969.0  keyword\n",
       "15  16.707156    1.00  1958.0  keyword\n",
       "16  14.008537    0.50   881.0  keyword"
      ]
     },
     "execution_count": 4,
     "metadata": {},
     "output_type": "execute_result"
    }
   ],
   "source": [
    "from rag.keywords_inference import respond\n",
    "\n",
    "EVAL = pandas.DataFrame(\n",
    "    {\n",
    "        \"delai\": [],   # temps de réponse\n",
    "        \"rappel\": [],  # proportion d'information retrouvée\n",
    "        \"volume\": [],  # taille de la reponse\n",
    "        \"methode\": []    # nom de la méthode\n",
    "    }\n",
    ")\n",
    "\n",
    "methods: Dict[str, Callable[[str], str]] = {\n",
    "    \"keyword\": respond,\n",
    "}\n",
    "\n",
    "for sentence, knowledge in TRUTH.items():\n",
    "    \n",
    "    for method_name, method in methods.items():\n",
    "        \n",
    "        print(f\"Testing [{method_name}] on \\\"{sentence}\\\"\")\n",
    "        \n",
    "        start_time = datetime.datetime.now()\n",
    "        response = method(sentence)\n",
    "        delay = (datetime.datetime.now() - start_time).total_seconds()\n",
    "        \n",
    "        # Test du rappel\n",
    "        class Analysis(pydantic.BaseModel):\n",
    "            knowledge_item_in_document_count: int = pydantic.Field(\n",
    "                default=0,\n",
    "                description=\"Nombre d'éléments de la liste de connaissances exprimés dans le document\"\n",
    "            )\n",
    "        analysis: Analysis = ChatOpenAI(\n",
    "            api_key=os.getenv(\"OPENAI_API_KEY\"),\n",
    "            model=\"gpt-4.1-mini\"\n",
    "        ).with_structured_output(Analysis).invoke(\n",
    "            [\n",
    "                SystemMessage(\n",
    "                    content=\"Count the number of unique items from the knowledge list that are mentioned in the ai response.\"\n",
    "                            + \"It does not matter if the item is mentioned in the same sentence or not. \"\n",
    "                            + \"Nor if the item is mentioned in the same form or not. \"\n",
    "                            + \"What matters is that the meaning and all meaningful elements from an item are present for it to be counted in.\"\n",
    "                            + \"\\n\\nKnowledge list: \"\n",
    "                            + str(knowledge)\n",
    "                            + \"\\n\\nAI Response: \\n\"\n",
    "                            + response\n",
    "                ),\n",
    "            ]\n",
    "        )\n",
    "        \n",
    "        EVAL = pandas.concat(\n",
    "            [\n",
    "                EVAL,\n",
    "                pandas.DataFrame(\n",
    "                    {\n",
    "                        \"delai\": [delay],\n",
    "                        \"rappel\": [analysis.knowledge_item_in_document_count / len(knowledge)],\n",
    "                        \"volume\": [len(response)],\n",
    "                        \"methode\": [method_name]\n",
    "                    }\n",
    "                )\n",
    "            ],\n",
    "            ignore_index=True\n",
    "        )\n",
    "        \n",
    "EVAL"
   ]
  },
  {
   "cell_type": "code",
   "execution_count": 5,
   "id": "63ab48f9",
   "metadata": {},
   "outputs": [
    {
     "data": {
      "text/plain": [
       "Text(0.5, 1.0, 'Volume de la réponse')"
      ]
     },
     "execution_count": 5,
     "metadata": {},
     "output_type": "execute_result"
    },
    {
     "data": {
      "image/png": "[encoded data removed]",
      "text/plain": [
       "<Figure size 1200x600 with 3 Axes>"
      ]
     },
     "metadata": {},
     "output_type": "display_data"
    }
   ],
   "source": [
    "plt, axs = matplotlib.pyplot.subplots(1, 3, figsize=(12, 6))\n",
    "\n",
    "# plot delai, rappel and volume\n",
    "seaborn.barplot(data=EVAL, x=\"methode\", y=\"delai\", ax=axs[0])\n",
    "axs[0].set_title(\"Temps de réponse\")\n",
    "seaborn.barplot(data=EVAL, x=\"methode\", y=\"rappel\", ax=axs[1])\n",
    "axs[1].set_title(\"Rappel\")\n",
    "seaborn.barplot(data=EVAL, x=\"methode\", y=\"volume\", ax=axs[2])\n",
    "axs[2].set_title(\"Volume de la réponse\")"
   ]
  }
 ],
 "metadata": {
  "kernelspec": {
   "display_name": ".venv",
   "language": "python",
   "name": "python3"
  },
  "language_info": {
   "codemirror_mode": {
    "name": "ipython",
    "version": 3
   },
   "file_extension": ".py",
   "mimetype": "text/x-python",
   "name": "python",
   "nbconvert_exporter": "python",
   "pygments_lexer": "ipython3",
   "version": "3.12.3"
  }
 },
 "nbformat": 4,
 "nbformat_minor": 5
}
