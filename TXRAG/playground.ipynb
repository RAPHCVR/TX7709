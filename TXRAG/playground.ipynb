{
 "cells": [
  {
   "cell_type": "code",
   "execution_count": 1,
   "id": "89ae935c",
   "metadata": {},
   "outputs": [],
   "source": [
    "from typing import List, Dict\n",
    "import pydantic, dotenv, os, re\n",
    "\n",
    "from langchain_core.messages import HumanMessage, SystemMessage, AIMessage\n",
    "from langchain_openai import ChatOpenAI\n",
    "\n",
    "dotenv.load_dotenv()\n",
    "\n",
    "LLM = ChatOpenAI(\n",
    "    model=\"o4-mini\",\n",
    "    api_key=os.getenv(\"OPENAI_API_KEY\")\n",
    ")"
   ]
  },
  {
   "cell_type": "markdown",
   "id": "cea51068",
   "metadata": {},
   "source": [
    "## 1 - Chargement des Documents"
   ]
  },
  {
   "cell_type": "code",
   "execution_count": 2,
   "id": "6b96e484",
   "metadata": {},
   "outputs": [
    {
     "data": {
      "text/plain": [
       "43494"
      ]
     },
     "execution_count": 2,
     "metadata": {},
     "output_type": "execute_result"
    }
   ],
   "source": [
    "all_text = \"\"\n",
    "\n",
    "for doc in os.listdir(\"data/docs-md\"):\n",
    "    if doc.endswith(\".md\"):\n",
    "        with open(os.path.join(\"data/docs-md\", doc), \"r\") as file:\n",
    "            all_text += file.read()\n",
    "            \n",
    "# remove all that starts with \"![image](\" and ends with \")\"\n",
    "all_text = re.sub(r\"!\\[image\\]\\(.*?\\)\", \"\", all_text)\n",
    "            \n",
    "len(all_text)"
   ]
  },
  {
   "cell_type": "code",
   "execution_count": 3,
   "id": "8a34f19d",
   "metadata": {},
   "outputs": [],
   "source": [
    "MOTS_CLES: Dict[str, str] = {}\n",
    "DOCS: List[str] = []\n",
    "KWMAPPING: Dict[str, List[str]] = {}"
   ]
  },
  {
   "cell_type": "markdown",
   "id": "879df04c",
   "metadata": {},
   "source": [
    "## 0 - Génération des Mots clés\n",
    "à partir des documents disponibles"
   ]
  },
  {
   "cell_type": "code",
   "execution_count": 4,
   "id": "2da0957e",
   "metadata": {},
   "outputs": [],
   "source": [
    "class Explanation(pydantic.BaseModel):\n",
    "    topic: str = pydantic.Field(description=\"User assistance topic in the corpus. e. g. 'network' for network issues, 'hardware' for hardware issues, etc.\")\n",
    "    explanation: str = pydantic.Field(description=\"explanation of the topic, notes on how it might be useful knowledge to solve typical user problems.\")\n",
    "\n",
    "class Analyze(pydantic.BaseModel):\n",
    "    explanations: List[Explanation]\n",
    "    \n",
    "# keywords: Analyze = LLM.with_structured_output(Analyze).invoke(all_text)\n",
    "# keywords"
   ]
  },
  {
   "cell_type": "markdown",
   "id": "355075a3",
   "metadata": {},
   "source": [
    "## 2 - Compression des Documents"
   ]
  },
  {
   "cell_type": "code",
   "execution_count": 5,
   "id": "a4e50a3b",
   "metadata": {},
   "outputs": [
    {
     "data": {
      "text/plain": [
       "[\"Changer le mot de passe UTC : https://comptes.utc.fr/accounts-web/tools/changePassword.xhtml (outil officiel). Recommandations ANSSI (http://www.ssi.gouv.fr/IMG/pdf/NP_MDP_NoteTech.pdf) :\\n* 8–16 caractères : majuscules, minuscules, chiffres et symboles autorisés (. / * etc.), mais interdits < > ; ` : & % * ? / \\\\ { } |.\\n* Ni mot du dictionnaire, ni nom propre ou marque, ni élément d'identité (nom, date), ni exemple internet.\\n* Ne jamais écrire, stocker ni envoyer par mail.\\n\\nConseils : choisir de préférence 8 caractères, aléatoires ou mnémoniques (phrase personnelle, premières lettres). Garder le secret.\",\n",
       " 'Changer le mot de passe de session Windows : appuyer simultanément Ctrl+Alt+Suppr (voir docs 845/846/847). Saisir l’ancien et le nouveau mot de passe, valider.\\n\\nMettre à jour le mot de passe aux imprimantes et partages réseau (stocké localement dans le Gestionnaire d’identification) :\\n1. Panneau de configuration > Gestionnaire d’identification (doc 848/849).\\n2. Sélectionner chaque entrée (ex. « lokorn », doc 850), cliquer Modifier (doc 851), indiquer le nouveau mot de passe, Enregistrer (doc 852). Répéter pour chaque serveur.',\n",
       " 'Messagerie standard IMAP/SMTP :\\n* Réception IMAP : imaps.utc.fr, SSL port 993.\\n* Envoi SMTP : smtps.utc.fr, SSL port 465, authentification requise.\\nAccès client Webmail via ENT https://ent.utc.fr/ (icône Webmail). Docs clients : Outlook (id 110), Thunderbird (doc 826).\\n\\nMessagerie Exchange (personnel seulement) :\\n* Client spécialisé : contacter le 5000 pour configuration.\\n* Webmail Outlook via ENT (id 60).',\n",
       " 'Wi-Fi UTC/ESCOM :\\n* utcetu (étudiants), utcpers (personnel), identifiants UTC.\\n* eduroam (tous), login@utc.fr + mot de passe.\\n* portailutc (invités), déclaration préalable.\\nRésidences : crousroberval (UTC/ESCOM), crousextetu (login_crous@etu.crous-amiens.fr).\\nFilaire : brancher RJ45 ; pour extérieurs utiliser identifiants CROUS ou invités.\\n\\nEn cas de refus : vérifier identifiants, déclaration sur https://neptune.utc.fr/devices, désactiver adresse MAC aléatoire (Windows/Android/iOS). Si connecté sans Internet : rebrancher le câble, vérifier DNS automatique. Support : 5000@utc.fr.',\n",
       " 'Rôle : résoudre noms de domaine en adresses IP. Modifier manuellement en cas de panne ou optimisation.\\n\\nWindows : Panneau de configuration > Centre Réseau et partage > Modifier paramètres carte > Clic droit > Propriétés > Protocole IP > Propriétés > « Utiliser l’adresse de serveur DNS suivante » > renseigner.\\n\\nMac : Menu Pomme > Préférences Système > Réseau > sélectionner interface > Avancé > onglet DNS > ajouter serveurs (ex. 8.8.8.8, 8.8.4.4).',\n",
       " 'Windows : Explorateur > Connecter un lecteur réseau ; choisir lettre, dossier \\\\\\\\\\\\\\\\serveur\\\\partage, cocher « Se connecter avec des infos d’identification différentes » et « Se reconnecter à l’ouverture de session » si souhaité ; cliquer Terminer et saisir les identifiants.\\n\\nMac (OS X) : Finder > Aller > Se connecter au serveur (⌘+K) > smb://serveur/partage > se connecter > saisir login/mot de passe > (optionnel) « Conserver ce mot de passe ».',\n",
       " 'Tutoriel avec FileZilla (https://filezilla-project.org/) :\\n1. Installer et lancer FileZilla.\\n2. Fichier > Gestionnaire de sites > Nouveau site.\\n   * Hôte : stargate.utc.fr\\n   * Protocole : SFTP, Port 22\\n   * Identifiants : login UTC / mot de passe UTC\\n3. Connecter pour transférer fichiers entre PC et session Etu.',\n",
       " 'Télécharger la config adaptée : étudiant (client-etu-2045.ovpn), personnel (client-pers-2045.ovpn) depuis les liens doc 3777/3778.\\n\\nWindows : installer OpenVPN Connect (https://openvpn.net/downloads/openvpn-connect-v3-windows.msi), lancer, onglet FILE > importer profil, saisir login UTC si non partagé, Connect > entrer mot de passe UTC > accepter certificat > icône verte.\\nLinux (Ubuntu) : Paramètres > Réseau > + > Importer depuis un fichier > sélectionner .ovpn > renseigner login UTC, mot de passe à saisir à chaque fois > activer.\\nMacOS : installer Tunnelblick (https://tunnelblick.net/downloads.html), glisser-déposer le fichier .ovpn sur l’icône Tunnelblick, puis Connect client-etu/pers > saisir identifiants UTC.',\n",
       " 'GlobalProtect (postes professionnels) : connexion VPN chiffrée interne/extérieur.\\n\\nWindows/Mac : navigateur vers https://portail.vpn.utc.fr, s’identifier ENT, télécharger et installer l’agent, configurer serveur : portail.vpn.utc.fr.\\nLinux : (root) :\\n```\\ntar zxvf PanGPLinux-6.2.1-c15.tgz\\n./gp_install\\n```\\nSi erreur permission, installer manuellement le package .deb. Se connecter/déconnecter via l’interface GlobalProtect.',\n",
       " 'Postes sur réseau sécurisé :\\n1. OCS Inventory NG (inventaire, déploiement) : déjà installé sur postes DSI, sinon télécharger sur https://secu.dsi.utc.fr/.\\n2. Cortex XDR PaloAlto (antivirus, alertes, isolation) : déployé par DSI ou télécharger sur https://secu.dsi.utc.fr/.\\n3. GlobalProtect PaloAlto (VPN, posture) : déployé via OCS ou télécharger sur https://secu.dsi.utc.fr/.',\n",
       " 'Postes Alcatel IP Touch (4018,4028,4038,4068,8028S,8068S,8088) via réseau IP UTC.\\n\\nLignes directes : 43xx 44xx … 79xx; non directes : 40xx … 55xx. Code confidentiel par défaut 0000 (modifier avec 72). Verrouillage/déverrouillage : 86 (+ code). Renvois : 76,82,87,88,89; Annuler : 65. Parcage : 64. Conférence 3 participants : composer n°1, attendre, composer n°2, touche conférence. Conf >3 : poste 2 : 69+code; basculer poste 1 → 69+code.',\n",
       " 'Windows (PowerShell) : `Get-NetAdapter -Physical | Format-Table Name,MacAddress` puis relever l’adresse MAC de l’interface.\\nMacOS : Préférences Système > Réseau > interface > Avancé > onglet Matériel.\\niOS : Réglages > Général > Informations > Adresse MAC Wi-Fi.\\nAndroid : Paramètres > À propos > État > Adresse MAC Wi-Fi.\\nLinux : terminal : `ip -c l`, repérer link/ether de l’interface.',\n",
       " 'Étudiants UTC : accéder à https://comptes.utc.fr/ > Mail Redirection > saisir adresse mail perso > Add > Submit. Message « Changes applied successfully » indique l’activation du transfert de mails.']"
      ]
     },
     "execution_count": 5,
     "metadata": {},
     "output_type": "execute_result"
    }
   ],
   "source": [
    "class Document(pydantic.BaseModel):\n",
    "    thematique: str = pydantic.Field(description=\"Thématique du document synthétique, e. g. 'mots de passe', 'reseaux', etc.\")\n",
    "    contenu: str = pydantic.Field(description=\"Contenu du document synthétique\")\n",
    "\n",
    "class Documents(pydantic.BaseModel):\n",
    "    documents: List[Document] = pydantic.Field(description=\"Nouveaux documents synthétiques qui contiennent toute l'information\")\n",
    "    \n",
    "messages = [\n",
    "    SystemMessage(content=\"\"\"\n",
    "        Rédige de nouveaux documents (chaque string de la liste est un document) \n",
    "        en utilisant toutes les informations des documents que l'utilisateur fournira.\n",
    "        Regroupez les informations logiquement dans les nouveaux documents.\n",
    "        Toute information contenue dans le texte de l'utilisateur doit être présent dans au moins un des nouveaux documents.\n",
    "        Tous les liens doivent être présents avec explication de leur utilité en particulier pour porter assistance à un utilisateur.\n",
    "        De même, toutes les informations énumérées, les listes, etc doivent être présentes dans les nouveaux documents.\n",
    "        Les nouveaux documents doivent adopter un format aussi synthétique que possible (par exemple: \"politique mots de passe caractères autorisés a b c . / * mais pas ! ? ;\").\n",
    "        Essaie de répartir équitablement l'information en documents qui font au maximum deux paragraphes chacun, moins si possible.\n",
    "    \"\"\"),\n",
    "    HumanMessage(content=str(all_text)),\n",
    "]\n",
    "\n",
    "result: Documents = LLM.with_structured_output(Documents).invoke(messages)\n",
    "DOCS = [d.contenu for d in result.documents]\n",
    "DOCS"
   ]
  },
  {
   "cell_type": "markdown",
   "id": "b583acb0",
   "metadata": {},
   "source": [
    "## 3 Création d'une prompt de mots clés"
   ]
  },
  {
   "cell_type": "code",
   "execution_count": 6,
   "id": "2be875ca",
   "metadata": {},
   "outputs": [
    {
     "data": {
      "text/plain": [
       "'Voici une proposition d’une quarantaine de mots-clés (format lower+dash) couvrant les plaintes/types de demandes que les usagers peuvent adresser au service informatique de l’UTC, classés en grandes thématiques, et pour chacune la nature des réponses qu’un système RAG pourrait fournir.\\n\\n1. Mot-clés « authentification/password »  \\n   - changer-mdp-utc  \\n   - mdp-oublié-utc  \\n   - mdp-non-accepté  \\n   - sécurité-mot-de-passe  \\n   - mdp-windows  \\n   - accès-session-windows  \\n\\n   RAG pourrait renvoyer :  \\n   • un lien et guide pas-à-pas vers l’outil officiel https://comptes.utc.fr/.../changePassword.xhtml  \\n   • les recommandations ANSSI (longueur, complexité, caractères interdits)  \\n   • procédure Ctrl+Alt+Suppr et références docs 845/846/847  \\n   • conseils mnémoniques et bonnes pratiques de stockage.\\n\\n2. Mot-clés « mise à jour des credentials sur postes et imprimantes »  \\n   - maj-mdp-imprimantes  \\n   - maj-mdp-partages  \\n\\n   RAG pourrait renvoyer :  \\n   • pas-à-pas pour ouvrir Panneau de configuration > Gestionnaire d’identification (docs 848–852)  \\n   • comment sélectionner et modifier chaque entrée réseau (serveurs, imprimantes).\\n\\n3. Mot-clés « messagerie »  \\n   - config-imap  \\n   - config-smtp  \\n   - pas-de-mail  \\n   - webmail-ent  \\n   - exchange-personnel  \\n\\n   RAG pourrait renvoyer :  \\n   • serveurs IMAP (imaps.utc.fr:993) et SMTP (smtps.utc.fr:465) + SSL/authentification  \\n   • liens et guides pour Outlook (id 110) et Thunderbird (doc 826)  \\n   • accès Webmail ENT (https://ent.utc.fr/)  \\n   • procédure de contact DSI pour Exchange perso (téléphone 5000).\\n\\n4. Mot-clés « wifi »  \\n   - wifi-utcetu  \\n   - wifi-utcpers  \\n   - wifi-eduroam  \\n   - wifi-invites-portailutc  \\n   - wifi-crous-residence  \\n   - pas-de-wifi  \\n   - refus-wifi  \\n\\n   RAG pourrait renvoyer :  \\n   • liste SSID (utcetu, utcpers, eduroam, portailutc, crousroberval, crousextetu)  \\n   • mode d’authentification (login@utc.fr + mot de passe), déclaration MAC sur Neptune  \\n   • désactivation adresse MAC aléatoire (Win/Android/iOS)  \\n   • diagnostics câble RJ45, DNS, contact support 5000@utc.fr.\\n\\n5. Mot-clés « DNS et résolution de noms »  \\n   - config-dns  \\n   - dns-non-fonctionnel  \\n\\n   RAG pourrait renvoyer :  \\n   • pas-à-pas Windows (Centre Réseau > Propriétés IPv4 > serveurs DNS)  \\n   • pas-à-pas Mac (Préférences Système > Réseau > Avancé > DNS)  \\n   • adresses publiques conseillées (8.8.8.8, 8.8.4.4).\\n\\n6. Mot-clés « partage réseau »  \\n   - partage-windows  \\n   - partage-mac  \\n\\n   RAG pourrait renvoyer :  \\n   • Windows : Explorateur > Connecter un lecteur réseau > smb://serveur/partage + options de reconnection  \\n   • Mac : Finder > Aller > Se connecter au serveur (⌘+K) > smb://serveur/partage.\\n\\n7. Mot-clés « FTP/SFTP »  \\n   - ftp-sftp-stargate  \\n   - filezilla-connexion  \\n\\n   RAG pourrait renvoyer :  \\n   • mini-tutoriel FileZilla (Hôte stargate.utc.fr, SFTP port 22, login UTC)  \\n   • screenshots des menus Fichier > Gestionnaire de sites.\\n\\n8. Mot-clés « VPN »  \\n   - vpn-openvpn  \\n   - vpn-globalprotect  \\n   - vpn-linux  \\n\\n   RAG pourrait renvoyer :  \\n   • liens vers profils .ovpn (client-etu/pers) et installer OpenVPN Connect (Win, Linux, Mac)  \\n   • procédure Tunnelblick sur Mac, import de profil, saisie login UTC  \\n   • GlobalProtect : URL portail.vpn.utc.fr, installer agent, cmd Linux (PanGPLinux-*.tgz).\\n\\n9. Mot-clés « sécurité et inventaire »  \\n   - installation-ocs  \\n   - cortex-xdr  \\n   - config-paloalto  \\n\\n   RAG pourrait renvoyer :  \\n   • OCS Inventory NG (téléchargement sur secu.dsi.utc.fr)  \\n   • Cortex XDR PaloAlto (antivirus, isolation)  \\n   • liens et procédures de déploiement, contact DSI.\\n\\n10. Mot-clés « téléphonie IP »  \\n    - ip-touch  \\n    - config-telephone-ip  \\n\\n    RAG pourrait renvoyer :  \\n    • modèles Alcatel IP Touch (4018…8088) et codes par défaut  \\n    • procédures renvoi, parcage, conférence, codes fonctions (72, 86, 76…).\\n\\n11. Mot-clés « adresse MAC »  \\n    - trouver-mac-address  \\n    - adresse-mac-windows  \\n    - adresse-mac-macos  \\n    - adresse-mac-ios  \\n    - adresse-mac-android  \\n\\n    RAG pourrait renvoyer :  \\n    • commandes PowerShell (Get-NetAdapter)  \\n    • pas-à-pas GUI MacOS, iOS, Android  \\n    • copier/coller de l’adresse pour déclarations ou whitelist.\\n\\n12. Mot-clés « redirection mail »  \\n    - redirection-mail  \\n    - transfert-mail-perso  \\n\\n    RAG pourrait renvoyer :  \\n    • tutoriel compte UTC > Mail Redirection > saisie adresse perso > validation  \\n    • message « Changes applied successfully » comme confirmation.\\n\\n---\\n\\nPour chacun de ces mots-clés (ou groupe de mots-clés), un système RAG déploierait :  \\n• Un résumé de la procédure étape par étape  \\n• Des liens directs vers la doc officielle ou ENT  \\n• Des extraits de la documentation DSI (n° de doc, captures d’écran)  \\n• Des bonnes pratiques (ANSSI, sécurité, sauvegarde)  \\n• Le contact support (5000, adresse mail) si le problème persiste.'"
      ]
     },
     "execution_count": 6,
     "metadata": {},
     "output_type": "execute_result"
    }
   ],
   "source": [
    "keyword_prompt = LLM.invoke([\n",
    "    SystemMessage(\n",
    "        content=\"D'après les informations qui leur sont disponibles pour traiter des requêtes utilisateur, \"\n",
    "                + \"propose un grand nombre de mots clés au format lower+dash (= Login refusé => login-refuse) \"\n",
    "                + \"qui correspondent à des \\\"plaintes\\\" \"\n",
    "                + \"que les utilisagers sont susceptibles de porter au service informatique de l'UTC \"\n",
    "                + \"(catégories de plaintes, par leur forme, par exemple \\\"pas-d-internet\\\" ou \"\n",
    "                + \"\\\"comment-se-connecter\\\"). Explique les thématiques qu'un système RAG pourrait renvoyer \"\n",
    "                + \"suite à l'input de chaque mot clé ou groupe de mots clés.\"\n",
    "                + f\"\\n\\nVoici la liste des informations disponibles: {str(DOCS)}\"\n",
    "    )\n",
    "]).content\n",
    "keyword_prompt"
   ]
  },
  {
   "cell_type": "markdown",
   "id": "e12fe385",
   "metadata": {},
   "source": [
    "## 4 - Attribution des Mots clés"
   ]
  },
  {
   "cell_type": "code",
   "execution_count": 7,
   "id": "d79ff9f2",
   "metadata": {},
   "outputs": [
    {
     "data": {
      "text/plain": [
       "[KeywordMapping(document_id=0, resume='Guide de changement de mot de passe UTC et recommandations ANSSI pour créer un mot de passe robuste et sécurisé.', mots_cles=['mot-de-passe-oublie', 'identifiants-invalides']),\n",
       " KeywordMapping(document_id=1, resume='Instructions pour modifier le mot de passe de session Windows et mettre à jour le Gestionnaire d’identification pour imprimantes et partages réseau.', mots_cles=['mot-de-passe-oublie', 'identifiants-invalides', 'lecteur-reseau-inaccessible']),\n",
       " KeywordMapping(document_id=2, resume='Configuration des serveurs IMAP/SMTP et accès Webmail via ENT, avec guides pour Outlook et Thunderbird.', mots_cles=['envoi-mail-echoue', 'smtp-error', 'reception-bloquee', 'imap-timeout']),\n",
       " KeywordMapping(document_id=3, resume='Paramétrage et dépannage des connexions Wi-Fi (UTC, eduroam, invités) et filaire (RJ45, déclaration MAC, DNS).', mots_cles=['connexion-eduroam', 'pas-d-internet', 'aucun-reseau', 'deconnecte']),\n",
       " KeywordMapping(document_id=4, resume='Procédure pour configurer manuellement les serveurs DNS sous Windows et Mac en cas de panne ou optimisation.', mots_cles=['pas-d-internet']),\n",
       " KeywordMapping(document_id=5, resume='Tutoriel de connexion à un lecteur réseau SMB sur Windows et Mac, avec options de reconnection et informations d’identification.', mots_cles=['lecteur-reseau-inaccessible', 'montage-smb-echoue']),\n",
       " KeywordMapping(document_id=6, resume='Tutoriel SFTP avec FileZilla pour accéder au serveur stargate.utc.fr et transférer des fichiers.', mots_cles=['sftp', 'televersement-impossible']),\n",
       " KeywordMapping(document_id=7, resume='Installation et utilisation d’OpenVPN (profils étudiant et personnel) sur Windows, Linux et macOS.', mots_cles=['vpn-ne-demarre-pas', 'erreur-openvpn']),\n",
       " KeywordMapping(document_id=8, resume='Guide d’installation et de connexion de l’agent GlobalProtect PaloAlto pour le VPN professionnel UTC.', mots_cles=['globalprotect', 'posture-vpn', 'vpn-ne-demarre-pas']),\n",
       " KeywordMapping(document_id=9, resume='Description des agents de sécurité OCS Inventory et Cortex XDR pour inventaire, antivirus et isolation des postes.', mots_cles=['alerte-virus', 'malware-detecte', 'pare-feu-bloque', 'posture-vpn']),\n",
       " KeywordMapping(document_id=10, resume='Codes fonctions et paramétrage des postes téléphoniques Alcatel IP : renvoi, messagerie, conférence et parking.', mots_cles=['pas-de-tonalite', 'pas-d-appel', 'renvoi-d-appel', 'messagerie-vocale', 'conference-a-3', 'parking-d-appel']),\n",
       " KeywordMapping(document_id=11, resume='Méthodes pour relever l’adresse MAC des interfaces réseau sur Windows, MacOS, iOS, Android et Linux.', mots_cles=['connexion-eduroam', 'aucun-reseau']),\n",
       " KeywordMapping(document_id=12, resume='Procédure de redirection de la messagerie UTC vers une adresse externe pour les étudiants.', mots_cles=['redirection-mail', 'forward-etudiant'])]"
      ]
     },
     "execution_count": 7,
     "metadata": {},
     "output_type": "execute_result"
    }
   ],
   "source": [
    "class KeywordMapping(pydantic.BaseModel):\n",
    "    document_id: int\n",
    "    resume: str = pydantic.Field(description=\"Résumé du document et pourquoi tu as choisis ces mots clés.\")\n",
    "    mots_cles: List[str] = pydantic.Field(description=\"Liste des mots clés associés aux problèmes que peuvent résoudre ce document.\")\n",
    "\n",
    "class Keywords(pydantic.BaseModel):\n",
    "    mapping: List[KeywordMapping]\n",
    "    \n",
    "messages = [\n",
    "    SystemMessage(content=\"\"\"\n",
    "        Associe des mots clés disponibles aux documents.\n",
    "        Il faut que lorsqu'un utilisateur tape un mot clé particulier, il trouve tous les documents qui pourraient lui être utiles.\n",
    "        N'hésite pas à associer plusieurs mots clés à un même document dès qu'il contient la moindre information qui pourraient être partinentes.\n",
    "        \n",
    "        Mots clés disponibles (reformule ces mots clés au format lower+dash = Login refusé => login-refuse) :\n",
    "        'Voici une proposition de catégorisation de plaintes (mots-clés/synonymes) que les utilisateurs peuvent remonter au service IT, ainsi que les thématiques/documents qu’un système RAG pourrait suggérer pour chaque cas.\\n\\n1. Authentification et accès  \\n   Mots-clés/phrases :  \\n     • “mot de passe oublié” / “login refusé” / “identifiants invalides”  \\n     • “accès refusé” / “permission denied”  \\n     • “blocage compte” / “verrouillage session”  \\n   Thématiques RAG suggérées :  \\n     – Gestion des mots de passe (changement, recommandations ANSSI)  \\n     – Déclaration et gestion des comptes UTC  \\n     – Récupération et réinitialisation d’identifiants  \\n\\n2. Réseau et connectivité  \\n   Mots-clés/phrases :  \\n     • “pas d’internet” / “aucun réseau” / “déconnecté”  \\n     • “Wi-Fi ne s’affiche pas” / “connexion eduroam”  \\n     • “VPN ne démarre pas” / “erreur OpenVPN / GlobalProtect”  \\n   Thématiques RAG suggérées :  \\n     – VPN, Wi-Fi et filaire (profils, ports, SSID)  \\n     – Dépannage réseau de base (DNS, MAC, DHCP)  \\n     – Configuration manuelle de DNS  \\n\\n3. Partages et stockage  \\n   Mots-clés/phrases :  \\n     • “lecteur réseau inaccessible” / “montage SMB échoue”  \\n     • “SFTP / FileZilla” / “téléversement impossible”  \\n     • “droits écriture/lecture”  \\n   Thématiques RAG suggérées :  \\n     – Accès aux fichiers et lecteurs réseau (SMB, SFTP)  \\n     – Activation du service SSH/SFTP  \\n     – Gestionnaire d’identification Windows  \\n\\n4. Messagerie  \\n   Mots-clés/phrases :  \\n     • “envoi mail échoue” / “SMTP error”  \\n     • “réception bloquée” / “IMAP timeout”  \\n     • “redirection mail” / “forward étudiant”  \\n   Thématiques RAG suggérées :  \\n     – Configuration de la messagerie (IMAP/SMTP, Exchange)  \\n     – Webmail via ENT  \\n     – Redirection des mails étudiants  \\n\\n5. Imprimantes et périphériques  \\n   Mots-clés/phrases :  \\n     • “imprimante non trouvée” / “erreur spooler”  \\n     • “connexion USB/ réseau”  \\n     • “driver manquant”  \\n   Thématiques RAG suggérées :  \\n     – Mise à jour des mots de passe d’imprimante (Gestionnaire d’identification)  \\n     – Installation et partage d’imprimantes sur Windows  \\n     – Dépannage spooler  \\n\\n6. Performance et lenteur  \\n   Mots-clés/phrases :  \\n     • “ordinateur lent” / “démarrage trop long”  \\n     • “applications réagissent mal”  \\n     • “goulot d’étranglement réseau”  \\n   Thématiques RAG suggérées :  \\n     – Agents de sécurité et inventaire (OCS, Cortex XDR)  \\n     – Analyse de charge réseau / débogage DNS  \\n     – Vérification des services et mises à jour  \\n\\n7. Sécurité et antivirus  \\n   Mots-clés/phrases :  \\n     • “alerte virus” / “malware detecté”  \\n     • “pare-feu bloque”  \\n     • “posture VPN”  \\n   Thématiques RAG suggérées :  \\n     – Installation et configuration de Cortex XDR  \\n     – GlobalProtect : posture et remontées  \\n     – Bonnes pratiques de sécurité  \\n\\n8. Téléphonie et messagerie vocale  \\n   Mots-clés/phrases :  \\n     • “pas de tonalité” / “pas d’appel”  \\n     • “renvoi d’appel” / “messagerie vocale”  \\n     • “conférence à 3” / “parking d’appel”  \\n   Thématiques RAG suggérées :  \\n     – Guide Téléphonie IP (codes fonctions, conf call)  \\n     – Numérotation internes/externe  \\n     – Paramètres code de sécurité et messagerie  \\n\\nChaque fois qu’une plainte ou un mot-clé est détecté, le système RAG peut renvoyer :  \\n • Le document ou la section précise à consulter  \\n • Un diagnostic automatisé (checklist de vérifications)  \\n • Des FAQ ou didacticiels associés  \\n • Des liens vers les guides de l’ENT ou le portail 5000.'        - \n",
    "    \"\"\"),\n",
    "    HumanMessage(content=\"format = {{document_id: document}}\\n\" + str({i: d for i, d in enumerate(result.documents)})),\n",
    "]\n",
    "\n",
    "keyword_mappings: Keywords = LLM.with_structured_output(Keywords).invoke(messages)\n",
    "keyword_mappings.mapping"
   ]
  },
  {
   "cell_type": "markdown",
   "id": "848354e1",
   "metadata": {},
   "source": [
    "## 5 - Sauvegarde de la BDD"
   ]
  },
  {
   "cell_type": "code",
   "execution_count": 8,
   "id": "164f4711",
   "metadata": {},
   "outputs": [],
   "source": [
    "from inferers.json_db import JSONKeywordDB\n",
    "\n",
    "all_keywords = set()\n",
    "for km in keyword_mappings.mapping:\n",
    "    all_keywords.update(km.mots_cles)\n",
    "\n",
    "DB = JSONKeywordDB(\n",
    "    keywords = {k: \"\" for k in all_keywords},\n",
    "    documents = {doc: km.mots_cles for doc, km in zip(DOCS, keyword_mappings.mapping)},\n",
    ")\n",
    "\n",
    "with open(\"data/index/db_1.json\", \"w+\", encoding=\"utf-8\") as f:\n",
    "    f.write(DB.model_dump_json())\n",
    "    \n",
    "with open(\"data/index/keyword_prompt_1.json\", \"w+\", encoding=\"utf-8\") as f:\n",
    "    f.write(keyword_prompt)"
   ]
  },
  {
   "cell_type": "markdown",
   "id": "cb8db165",
   "metadata": {},
   "source": [
    "# Inférence"
   ]
  },
  {
   "cell_type": "code",
   "execution_count": 9,
   "id": "2a4dbadc",
   "metadata": {},
   "outputs": [
    {
     "data": {
      "text/plain": [
       "\"Sélectionne tous les mots clés qui correspondent à peu près à la situation de l'utilisateur d'après la conversation.\\nSélectionne uniquement les mots clés parmi la liste suivante:['montage-smb-echoue', 'sftp', 'pas-de-tonalite', 'pare-feu-bloque', 'forward-etudiant', 'deconnecte', 'mot-de-passe-oublie', 'identifiants-invalides', 'aucun-reseau', 'parking-d-appel', 'renvoi-d-appel', 'erreur-openvpn', 'messagerie-vocale', 'posture-vpn', 'reception-bloquee', 'pas-d-appel', 'redirection-mail', 'imap-timeout', 'vpn-ne-demarre-pas', 'alerte-virus', 'lecteur-reseau-inaccessible', 'malware-detecte', 'conference-a-3', 'envoi-mail-echoue', 'pas-d-internet', 'televersement-impossible', 'globalprotect', 'connexion-eduroam', 'smtp-error']\\n\\nVoici quelques informations additionnelles sur les mots clés et les informations disponibles:\\nVoici une proposition d’une quarantaine de mots-clés (format lower+dash) couvrant les plaintes/types de demandes que les usagers peuvent adresser au service informatique de l’UTC, classés en grandes thématiques, et pour chacune la nature des réponses qu’un système RAG pourrait fournir.\\n\\n1. Mot-clés « authentification/password »  \\n   - changer-mdp-utc  \\n   - mdp-oublié-utc  \\n   - mdp-non-accepté  \\n   - sécurité-mot-de-passe  \\n   - mdp-windows  \\n   - accès-session-windows  \\n\\n   RAG pourrait renvoyer :  \\n   • un lien et guide pas-à-pas vers l’outil officiel https://comptes.utc.fr/.../changePassword.xhtml  \\n   • les recommandations ANSSI (longueur, complexité, caractères interdits)  \\n   • procédure Ctrl+Alt+Suppr et références docs 845/846/847  \\n   • conseils mnémoniques et bonnes pratiques de stockage.\\n\\n2. Mot-clés « mise à jour des credentials sur postes et imprimantes »  \\n   - maj-mdp-imprimantes  \\n   - maj-mdp-partages  \\n\\n   RAG pourrait renvoyer :  \\n   • pas-à-pas pour ouvrir Panneau de configuration > Gestionnaire d’identification (docs 848–852)  \\n   • comment sélectionner et modifier chaque entrée réseau (serveurs, imprimantes).\\n\\n3. Mot-clés « messagerie »  \\n   - config-imap  \\n   - config-smtp  \\n   - pas-de-mail  \\n   - webmail-ent  \\n   - exchange-personnel  \\n\\n   RAG pourrait renvoyer :  \\n   • serveurs IMAP (imaps.utc.fr:993) et SMTP (smtps.utc.fr:465) + SSL/authentification  \\n   • liens et guides pour Outlook (id 110) et Thunderbird (doc 826)  \\n   • accès Webmail ENT (https://ent.utc.fr/)  \\n   • procédure de contact DSI pour Exchange perso (téléphone 5000).\\n\\n4. Mot-clés « wifi »  \\n   - wifi-utcetu  \\n   - wifi-utcpers  \\n   - wifi-eduroam  \\n   - wifi-invites-portailutc  \\n   - wifi-crous-residence  \\n   - pas-de-wifi  \\n   - refus-wifi  \\n\\n   RAG pourrait renvoyer :  \\n   • liste SSID (utcetu, utcpers, eduroam, portailutc, crousroberval, crousextetu)  \\n   • mode d’authentification (login@utc.fr + mot de passe), déclaration MAC sur Neptune  \\n   • désactivation adresse MAC aléatoire (Win/Android/iOS)  \\n   • diagnostics câble RJ45, DNS, contact support 5000@utc.fr.\\n\\n5. Mot-clés « DNS et résolution de noms »  \\n   - config-dns  \\n   - dns-non-fonctionnel  \\n\\n   RAG pourrait renvoyer :  \\n   • pas-à-pas Windows (Centre Réseau > Propriétés IPv4 > serveurs DNS)  \\n   • pas-à-pas Mac (Préférences Système > Réseau > Avancé > DNS)  \\n   • adresses publiques conseillées (8.8.8.8, 8.8.4.4).\\n\\n6. Mot-clés « partage réseau »  \\n   - partage-windows  \\n   - partage-mac  \\n\\n   RAG pourrait renvoyer :  \\n   • Windows : Explorateur > Connecter un lecteur réseau > smb://serveur/partage + options de reconnection  \\n   • Mac : Finder > Aller > Se connecter au serveur (⌘+K) > smb://serveur/partage.\\n\\n7. Mot-clés « FTP/SFTP »  \\n   - ftp-sftp-stargate  \\n   - filezilla-connexion  \\n\\n   RAG pourrait renvoyer :  \\n   • mini-tutoriel FileZilla (Hôte stargate.utc.fr, SFTP port 22, login UTC)  \\n   • screenshots des menus Fichier > Gestionnaire de sites.\\n\\n8. Mot-clés « VPN »  \\n   - vpn-openvpn  \\n   - vpn-globalprotect  \\n   - vpn-linux  \\n\\n   RAG pourrait renvoyer :  \\n   • liens vers profils .ovpn (client-etu/pers) et installer OpenVPN Connect (Win, Linux, Mac)  \\n   • procédure Tunnelblick sur Mac, import de profil, saisie login UTC  \\n   • GlobalProtect : URL portail.vpn.utc.fr, installer agent, cmd Linux (PanGPLinux-*.tgz).\\n\\n9. Mot-clés « sécurité et inventaire »  \\n   - installation-ocs  \\n   - cortex-xdr  \\n   - config-paloalto  \\n\\n   RAG pourrait renvoyer :  \\n   • OCS Inventory NG (téléchargement sur secu.dsi.utc.fr)  \\n   • Cortex XDR PaloAlto (antivirus, isolation)  \\n   • liens et procédures de déploiement, contact DSI.\\n\\n10. Mot-clés « téléphonie IP »  \\n    - ip-touch  \\n    - config-telephone-ip  \\n\\n    RAG pourrait renvoyer :  \\n    • modèles Alcatel IP Touch (4018…8088) et codes par défaut  \\n    • procédures renvoi, parcage, conférence, codes fonctions (72, 86, 76…).\\n\\n11. Mot-clés « adresse MAC »  \\n    - trouver-mac-address  \\n    - adresse-mac-windows  \\n    - adresse-mac-macos  \\n    - adresse-mac-ios  \\n    - adresse-mac-android  \\n\\n    RAG pourrait renvoyer :  \\n    • commandes PowerShell (Get-NetAdapter)  \\n    • pas-à-pas GUI MacOS, iOS, Android  \\n    • copier/coller de l’adresse pour déclarations ou whitelist.\\n\\n12. Mot-clés « redirection mail »  \\n    - redirection-mail  \\n    - transfert-mail-perso  \\n\\n    RAG pourrait renvoyer :  \\n    • tutoriel compte UTC > Mail Redirection > saisie adresse perso > validation  \\n    • message « Changes applied successfully » comme confirmation.\\n\\n---\\n\\nPour chacun de ces mots-clés (ou groupe de mots-clés), un système RAG déploierait :  \\n• Un résumé de la procédure étape par étape  \\n• Des liens directs vers la doc officielle ou ENT  \\n• Des extraits de la documentation DSI (n° de doc, captures d’écran)  \\n• Des bonnes pratiques (ANSSI, sécurité, sauvegarde)  \\n• Le contact support (5000, adresse mail) si le problème persiste.\""
      ]
     },
     "execution_count": 9,
     "metadata": {},
     "output_type": "execute_result"
    }
   ],
   "source": [
    "from typing import List\n",
    "import json, pydantic\n",
    "from langchain_core.messages import SystemMessage\n",
    "\n",
    "with open(\"data/index/db_1.json\", \"r\", encoding=\"utf-8\") as f:\n",
    "    db = json.load(f)\n",
    "    \n",
    "with open(\"data/index/keyword_prompt_1.json\", \"r\", encoding=\"utf-8\") as f:\n",
    "    keyword_prompt = f.read()\n",
    "    \n",
    "class KW(pydantic.BaseModel):\n",
    "    keywords: List[str]\n",
    "\n",
    "PROMPT = [\n",
    "    SystemMessage(\n",
    "        content=\"Sélectionne tous les mots clés qui correspondent à peu près à la situation de l'utilisateur d'après la conversation.\"\n",
    "                + \"\\nSélectionne uniquement les mots clés parmi la liste suivante:\"\n",
    "                + str(list(db[\"keywords\"].keys()))\n",
    "                + \"\\n\\nVoici quelques informations additionnelles sur les mots clés et les informations disponibles:\\n\"\n",
    "                + keyword_prompt\n",
    "    )\n",
    "]\n",
    "PROMPT[0].content"
   ]
  },
  {
   "cell_type": "code",
   "execution_count": 10,
   "id": "8aa274f1",
   "metadata": {},
   "outputs": [
    {
     "data": {
      "text/plain": [
       "{\"Changer le mot de passe UTC : https://comptes.utc.fr/accounts-web/tools/changePassword.xhtml (outil officiel). Recommandations ANSSI (http://www.ssi.gouv.fr/IMG/pdf/NP_MDP_NoteTech.pdf) :\\n* 8–16 caractères : majuscules, minuscules, chiffres et symboles autorisés (. / * etc.), mais interdits < > ; ` : & % * ? / \\\\ { } |.\\n* Ni mot du dictionnaire, ni nom propre ou marque, ni élément d'identité (nom, date), ni exemple internet.\\n* Ne jamais écrire, stocker ni envoyer par mail.\\n\\nConseils : choisir de préférence 8 caractères, aléatoires ou mnémoniques (phrase personnelle, premières lettres). Garder le secret.\",\n",
       " 'Changer le mot de passe de session Windows : appuyer simultanément Ctrl+Alt+Suppr (voir docs 845/846/847). Saisir l’ancien et le nouveau mot de passe, valider.\\n\\nMettre à jour le mot de passe aux imprimantes et partages réseau (stocké localement dans le Gestionnaire d’identification) :\\n1. Panneau de configuration > Gestionnaire d’identification (doc 848/849).\\n2. Sélectionner chaque entrée (ex. « lokorn », doc 850), cliquer Modifier (doc 851), indiquer le nouveau mot de passe, Enregistrer (doc 852). Répéter pour chaque serveur.'}"
      ]
     },
     "execution_count": 10,
     "metadata": {},
     "output_type": "execute_result"
    }
   ],
   "source": [
    "kw = LLM.with_structured_output(KW).invoke(PROMPT + [HumanMessage(content=\"Je n'arrive pas à me connecter à mon compte, j'ai oublié mon mot de passe.\")])\n",
    "\n",
    "chunks = set()\n",
    "for k in kw.keywords:\n",
    "    chunks.update([doc for doc, keywords in db[\"documents\"].items() if k in keywords])\n",
    "chunks"
   ]
  }
 ],
 "metadata": {
  "kernelspec": {
   "display_name": ".venv",
   "language": "python",
   "name": "python3"
  },
  "language_info": {
   "codemirror_mode": {
    "name": "ipython",
    "version": 3
   },
   "file_extension": ".py",
   "mimetype": "text/x-python",
   "name": "python",
   "nbconvert_exporter": "python",
   "pygments_lexer": "ipython3",
   "version": "3.12.3"
  }
 },
 "nbformat": 4,
 "nbformat_minor": 5
}
